{
  "cells": [
    {
      "cell_type": "markdown",
      "metadata": {
        "id": "gIscjbgOTxbO"
      },
      "source": [
        "#**Лабораторная работа № 3 \"Построение гибридной криптосистемы\"**\n",
        "**В рамках курса \"Основы информационной безопасности\"**  \n",
        "*Специальность \"Информационная безопасность автоматизированных систем\", 2 курс, 2 семестр*  \n",
        "\n",
        "Результат данной лабораторной работы - [гибридная криптосистема](https://www.youtube.com/watch?v=VPvZbMXfv_0) - будет сочетать в себе преимущества [симметричных](http://mf.grsu.by/UchProc/livak/b_protect/zok_2.htm) и [асимметричных](https://bstudy.net/905249/tehnika/asimmetrichnye_shifry) алгоритмов шифрования и в целом даже напоминать системы, использующиеся на практике. Симметричные алгоритмы работают быстрее ассиметричных и ими удобно шифровать большие объемы информации. Зато асимметричные алгоритмы не требуют наличия секретного канала для передачи ключа.   \n",
        "Работать она будет следующим образом: сообщение шифруется при помощи симметричного алгоритма, а ключ симметричного алгоритма - ассиметричным. В качестве асимметричного алгоритма будет использоваться [RSA](http://www.michurin.net/computer-science/rsa.html), симметричный алгорим выбирается в соответствии с вариантом. Варианты приведены ниже (все шифры блочные).\n",
        "\n"
      ]
    },
    {
      "cell_type": "markdown",
      "metadata": {
        "id": "l05PT0JEbUTo"
      },
      "source": [
        "##Задание  \n",
        "Реализовать приложение (можно консольное), которое будет выполнять три указанных ниже сценарии: "
      ]
    },
    {
      "cell_type": "markdown",
      "metadata": {
        "id": "dhZSdDCHdSeU"
      },
      "source": [
        "###1. Генерация ключей гибридной системы\n",
        "*Входные параметры:*  \n",
        "*1) путь, по которому сериализовать зашифрованный симметричный ключ;*  \n",
        "*2) путь, по которому сериализовать открытый ключ;*  \n",
        "*3) путь, по которому сериазизовать закрытый ключ.*\n",
        "\n",
        "1.1. Сгеренировать ключ для симметричного алгоритма.  \n",
        "1.2. Сгенерировать ключи для ассиметричного алгоритма.  \n",
        "1.3. Сериализовать ассиметричные ключи.   \n",
        "1.4. Зашифровать ключ симметричного шифрования открытым ключом и сохранить по указанному пути. "
      ]
    },
    {
      "cell_type": "markdown",
      "metadata": {
        "id": "AffgS2s2dSqD"
      },
      "source": [
        "###2. Шифрование данных гибридной системой\n",
        "*Входные параметры:*  \n",
        "*1) путь к шифруемому текстовому файлу (очевидно, что файл должен быть достаточно объемным);*  \n",
        "*2) путь к закрытому ключу ассиметричного алгоритма;*  \n",
        "*3) путь к зашированному ключу симметричного алгоритма;*  \n",
        "*4) путь, по которому сохранить зашифрованный текстовый файл;*  \n",
        "\n",
        "2.1. Расшифровать симметричный ключ.  \n",
        "2.2. Зашифровать текст симметричным алгоритмом и сохранить по указанному пути.   "
      ]
    },
    {
      "cell_type": "markdown",
      "metadata": {
        "id": "ndA_6fSEdS1R"
      },
      "source": [
        "###3. Дешифрование данных гибридной системой\n",
        "*Входные парметры:*  \n",
        "*1) путь к зашифрованному текстовому файлу;*  \n",
        "*2) путь к закрытому ключу ассиметричного алгоритма;*  \n",
        "*3) путь к зашированному ключу симметричного алгоритма;*  \n",
        "*4) путь, по которому сохранить расшифрованный текстовый файл.*  \n",
        "\n",
        "3.1. Расшифровать симметричный ключ.  \n",
        "3.2. Расшифровать текст симметричным алгоритмом и сохранить по указанному пути. "
      ]
    },
    {
      "cell_type": "markdown",
      "metadata": {
        "id": "GV0-KXpFjO8j"
      },
      "source": [
        "##Небольшие ремарки к реализации приложения\n",
        "Я очень расчитываю не увидеть в вашем программном обеспечении захардкоженных входных параметров. Вы можете как считать их с клавиатуры, так и из файла. Ниже приведен пример работы с json.  \n",
        "\n",
        "Также я расчитываю, что ваше приложение будет сигнализировать о выполнении различных этапов своей работы.\n",
        "\n",
        "А еще, что оно не будет представлять из себя сплошную простыню кода без единой процедуры.\n",
        "\n",
        "Также было бы очень приятно увидеть лабораторную работу в виде грамотно оформленного репозитория на [github](https://github.com/)/[bitbucket](https://bitbucket.org/)/так далее."
      ]
    },
    {
      "cell_type": "code",
      "execution_count": 1,
      "metadata": {
        "id": "LjgkhpKQlYAA"
      },
      "outputs": [],
      "source": [
        "settings= {\n",
        "    'initial_file':'path/to/inital/file.txt',\n",
        "    'encrypted_file':'path/to/encrypted/file.txt',\n",
        "    'decrypted_file':'path/to/decrypted/file.txt',\n",
        "    'symmetric_key':'path/to/symmetric/key.txt',\n",
        "    'public_key':'path/to/public/key.pem',\n",
        "    'secret_key':'path/to/secret/key.pem',\n",
        "}\n"
      ]
    },
    {
      "cell_type": "code",
      "execution_count": 2,
      "metadata": {
        "id": "K_hNM6LxmzUO"
      },
      "outputs": [
        {
          "name": "stdout",
          "output_type": "stream",
          "text": [
            "{'initial_file': 'path/to/inital/file.txt', 'encrypted_file': 'path/to/encrypted/file.txt', 'decrypted_file': 'path/to/decrypted/file.txt', 'symmetric_key': 'path/to/symmetric/key.txt', 'public_key': 'path/to/public/key.pem', 'secret_key': 'path/to/secret/key.pem'}\n"
          ]
        }
      ],
      "source": [
        "import json\n",
        "# пишем в файл\n",
        "with open('settings.json', 'w') as fp:\n",
        "    json.dump(settings, fp)\n",
        "# читаем из файла\n",
        "with open('settings.json') as json_file:\n",
        "    json_data = json.load(json_file)\n",
        "\n",
        "print(json_data)"
      ]
    },
    {
      "cell_type": "markdown",
      "metadata": {
        "id": "qno_6_jAImlA"
      },
      "source": [
        "Чтобы у пользователя была возможность выбора одного из описанных выше режимов работы, можно воспользоваться argparse и организовать группу взаимоисключающих параметров командной строки."
      ]
    },
    {
      "cell_type": "markdown",
      "metadata": {
        "id": "t1ocn4B4jAv6"
      },
      "source": [
        "##Работа с библиотекой cryptography\n",
        "В данном разделе представлены примеры работы с библиотекой [cryptography](https://cryptography.io/en/latest/), которые могут вам пригодиться при выполнении данной лабораторной работы. Сама библиотека прекрасно задокументирована, так что, если вы владете английским языком, советую не проходить мимо. Если вы ко второму (третьему) курсу не владеете английским языком в мере, позволяющей вам читать технические тексты, то соболезную."
      ]
    },
    {
      "cell_type": "code",
      "execution_count": 6,
      "metadata": {
        "id": "2lIxNidGt3bZ"
      },
      "outputs": [
        {
          "name": "stdout",
          "output_type": "stream",
          "text": [
            "Requirement already satisfied: cryptography in c:\\users\\79297\\appdata\\local\\programs\\python\\python310\\lib\\site-packages (40.0.1)\n",
            "Requirement already satisfied: cffi>=1.12 in c:\\users\\79297\\appdata\\local\\programs\\python\\python310\\lib\\site-packages (from cryptography) (1.15.1)\n",
            "Requirement already satisfied: pycparser in c:\\users\\79297\\appdata\\local\\programs\\python\\python310\\lib\\site-packages (from cffi>=1.12->cryptography) (2.21)\n",
            "Note: you may need to restart the kernel to use updated packages.\n"
          ]
        },
        {
          "name": "stderr",
          "output_type": "stream",
          "text": [
            "\n",
            "[notice] A new release of pip available: 22.2.2 -> 23.0.1\n",
            "[notice] To update, run: python.exe -m pip install --upgrade pip\n"
          ]
        }
      ],
      "source": [
        "pip install cryptography"
      ]
    },
    {
      "cell_type": "code",
      "execution_count": 7,
      "metadata": {
        "id": "z_-ZWRjaTwJO"
      },
      "outputs": [
        {
          "name": "stdout",
          "output_type": "stream",
          "text": [
            "<class 'bytes'>\n",
            "b'\\x88\\xa1\\xffo\\xdbK\\xf8z\\xfb[\\xa7{\\x93\\x94H\\x10\\x1c\\xea~\\x91\\x01@\\xd6\\x9e\\xfb\\x90\\xf1\\x8bN\\x96\\xc1\\xc5'\n"
          ]
        }
      ],
      "source": [
        "# генерация ключа симметричного алгоритма шифрования\n",
        "import os #можно обойтись стандартным модулем\n",
        "\n",
        "key = os.urandom(32) # это байты\n",
        "\n",
        "print(type(key))\n",
        "print(key)"
      ]
    },
    {
      "cell_type": "code",
      "execution_count": 29,
      "metadata": {
        "id": "xacpzN4uqZ-i"
      },
      "outputs": [],
      "source": [
        "# сериализация ключа симмеричного алгоритма в файл\n",
        "file_name = 'symmetric.txt'\n",
        "with open(file_name, 'wb') as key_file:\n",
        "  key_file.write(key)"
      ]
    },
    {
      "cell_type": "code",
      "execution_count": 30,
      "metadata": {
        "id": "LL0jLslE1PJ2"
      },
      "outputs": [
        {
          "name": "stdout",
          "output_type": "stream",
          "text": [
            "<class 'bytes'>\n",
            "b'\\x88\\xa1\\xffo\\xdbK\\xf8z\\xfb[\\xa7{\\x93\\x94H\\x10\\x1c\\xea~\\x91\\x01@\\xd6\\x9e\\xfb\\x90\\xf1\\x8bN\\x96\\xc1\\xc5'\n"
          ]
        }
      ],
      "source": [
        "# десериализация ключа симметричного алгоритма\n",
        "with open(file_name, mode='rb') as key_file: \n",
        "    content = key_file.read()\n",
        "\n",
        "print(type(content))\n",
        "print(content)"
      ]
    },
    {
      "cell_type": "code",
      "execution_count": 54,
      "metadata": {
        "id": "8sMgJ3fH3yYX"
      },
      "outputs": [
        {
          "name": "stdout",
          "output_type": "stream",
          "text": [
            "b'\\xd0\\xba\\xd1\\x82\\xd0\\xbe \\xd0\\xbf\\xd1\\x80\\xd0\\xbe\\xd1\\x87\\xd0\\xb8\\xd1\\x82\\xd0\\xb0\\xd0\\xbb \\xd1\\x82\\xd0\\xbe\\xd1\\x82 \\xd0\\xb7\\xd0\\xb4\\xd0\\xbe\\xd1\\x85\\xd0\\xbd\\xd0\\xb5\\xd1\\x82'\n",
            "b'\\xd0\\xba\\xd1\\x82\\xd0\\xbe \\xd0\\xbf\\xd1\\x80\\xd0\\xbe\\xd1\\x87\\xd0\\xb8\\xd1\\x82\\xd0\\xb0\\xd0\\xbb \\xd1\\x82\\xd0\\xbe\\xd1\\x82 \\xd0\\xb7\\xd0\\xb4\\xd0\\xbe\\xd1\\x85\\xd0\\xbd\\xd0\\xb5\\xd1\\x82\\x00\\x00\\x03'\n"
          ]
        }
      ],
      "source": [
        "# паддинг данных для работы блочного шифра - делаем длину сообщения кратной длине шифркуемого блока\n",
        "from cryptography.hazmat.primitives import padding\n",
        "\n",
        "padder = padding.ANSIX923(32).padder()\n",
        "text = bytes('кто прочитал тот здохнет', 'UTF-8')\n",
        "padded_text = padder.update(text)+padder.finalize()\n",
        "\n",
        "print(text)\n",
        "print(padded_text)"
      ]
    },
    {
      "cell_type": "code",
      "execution_count": 32,
      "metadata": {
        "id": "r5qAuZmnqoWh"
      },
      "outputs": [
        {
          "name": "stdout",
          "output_type": "stream",
          "text": [
            "b'M}2\\x06>n\\x9e._\\xd8t\\x1c\\x97\\xa2\\xb0Y&\\xe8H$\\x00\\xa3\\xa6U\\x1a\\xa2\\xbc\\xb4\\xd3ll:k\\xef\\xfd\\xcf\\x9d\\xf5\\x93\\xad\\x94\\xf9\\x0b\\xaf\\xf8} \\xcd'\n"
          ]
        }
      ],
      "source": [
        "# шифрование текста симметричным алгоритмом\n",
        "from cryptography.hazmat.primitives.ciphers import Cipher, algorithms, modes\n",
        "\n",
        "iv = os.urandom(16) #случайное значение для инициализации блочного режима, должно быть размером с блок и каждый раз новым\n",
        "cipher = Cipher(algorithms.AES(key), modes.CBC(iv))\n",
        "encryptor = cipher.encryptor()\n",
        "c_text = encryptor.update(padded_text) + encryptor.finalize()\n",
        "\n",
        "print(c_text)"
      ]
    },
    {
      "cell_type": "code",
      "execution_count": 33,
      "metadata": {
        "id": "tZtJlqccqtg4"
      },
      "outputs": [
        {
          "name": "stdout",
          "output_type": "stream",
          "text": [
            "кто прочитал тот здохнет\u0000\u0000\u0003\n",
            "кто прочитал тот здохнет\n"
          ]
        }
      ],
      "source": [
        "# дешифрование и депаддинг текста симметричным алгоритмом\n",
        "\n",
        "decryptor = cipher.decryptor()\n",
        "dc_text = decryptor.update(c_text) + decryptor.finalize()\n",
        "\n",
        "unpadder = padding.ANSIX923(32).unpadder()\n",
        "unpadded_dc_text = unpadder.update(dc_text) + unpadder.finalize()\n",
        "\n",
        "print(dc_text.decode('UTF-8'))\n",
        "print(unpadded_dc_text.decode('UTF-8'))"
      ]
    },
    {
      "cell_type": "code",
      "execution_count": 34,
      "metadata": {
        "id": "6enRQI5hpvtp"
      },
      "outputs": [
        {
          "name": "stdout",
          "output_type": "stream",
          "text": [
            "<class 'cryptography.hazmat.backends.openssl.rsa._RSAPrivateKey'>\n",
            "<cryptography.hazmat.backends.openssl.rsa._RSAPrivateKey object at 0x00000243799C7820>\n",
            "<class 'cryptography.hazmat.backends.openssl.rsa._RSAPublicKey'>\n",
            "<cryptography.hazmat.backends.openssl.rsa._RSAPublicKey object at 0x00000243799C6FB0>\n"
          ]
        }
      ],
      "source": [
        "# генерация пары ключей для асимметричного алгоритма шифрования\n",
        "from cryptography.hazmat.primitives.asymmetric import rsa\n",
        "from cryptography.hazmat.primitives import serialization\n",
        "\n",
        "keys = rsa.generate_private_key(\n",
        "    public_exponent=65537,\n",
        "    key_size=2048\n",
        ")\n",
        "private_key = keys\n",
        "public_key = keys.public_key()\n",
        "\n",
        "print(type(private_key))\n",
        "print(private_key)\n",
        "print(type(public_key))\n",
        "print(public_key)"
      ]
    },
    {
      "cell_type": "code",
      "execution_count": 35,
      "metadata": {
        "id": "r7j9V_HMqeAZ"
      },
      "outputs": [],
      "source": [
        "# сериализация открытого ключа в файл\n",
        "public_pem = 'public.pem'\n",
        "with open(public_pem, 'wb') as public_out:\n",
        "        public_out.write(public_key.public_bytes(encoding=serialization.Encoding.PEM,\n",
        "             format=serialization.PublicFormat.SubjectPublicKeyInfo))\n",
        "\n",
        "# сериализация закрытого ключа в файл\n",
        "private_pem = 'private.pem'\n",
        "with open(private_pem, 'wb') as private_out:\n",
        "        private_out.write(private_key.private_bytes(encoding=serialization.Encoding.PEM,\n",
        "              format=serialization.PrivateFormat.TraditionalOpenSSL,\n",
        "              encryption_algorithm=serialization.NoEncryption()))"
      ]
    },
    {
      "cell_type": "code",
      "execution_count": 36,
      "metadata": {
        "id": "nmBYMOpjqxOw"
      },
      "outputs": [
        {
          "name": "stdout",
          "output_type": "stream",
          "text": [
            "<class 'cryptography.hazmat.backends.openssl.rsa._RSAPrivateKey'>\n",
            "<cryptography.hazmat.backends.openssl.rsa._RSAPrivateKey object at 0x00000243799C79D0>\n",
            "<class 'cryptography.hazmat.backends.openssl.rsa._RSAPublicKey'>\n",
            "<cryptography.hazmat.backends.openssl.rsa._RSAPublicKey object at 0x00000243799C5180>\n"
          ]
        }
      ],
      "source": [
        "from cryptography.hazmat.primitives.serialization import load_pem_public_key, load_pem_private_key\n",
        "\n",
        "# десериализация открытого ключа\n",
        "with open(public_pem, 'rb') as pem_in:\n",
        "  public_bytes = pem_in.read()\n",
        "d_public_key = load_pem_public_key(public_bytes)\n",
        "# десериализация закрытого ключа\n",
        "with open(private_pem, 'rb') as pem_in:\n",
        "  private_bytes = pem_in.read()\n",
        "d_private_key = load_pem_private_key(private_bytes,password=None,)\n",
        "\n",
        "print(type(d_private_key))\n",
        "print(d_private_key)\n",
        "print(type(d_public_key))\n",
        "print(d_public_key)"
      ]
    },
    {
      "cell_type": "code",
      "execution_count": 37,
      "metadata": {
        "id": "dFCQIx48rJ0G"
      },
      "outputs": [
        {
          "name": "stdout",
          "output_type": "stream",
          "text": [
            "b\"\\x9a\\xbf\\x15<\\x11\\xf77\\xe5\\xf7\\xf4\\x03\\x15Ez\\x07\\xe3h\\xde\\x92 X\\xb1\\x90\\x0fu\\x1f\\xad\\xf8%U\\xdc\\xf4{\\x1f\\x94\\x8e(!\\xff\\xbcq\\x82\\xbc\\xe5\\xefw\\xa3\\xb7n\\\\7?\\xad(\\xc7szB\\x94\\xc1%V\\x94N\\xa3vm\\xc2Z\\xb9\\x9eO\\xc1W\\xeai\\xd1(\\x8b]r\\x0c7\\xe0A/u\\xea\\nRL\\x0f\\xbfI\\xbf\\tl\\xe9\\x83\\xb7\\xee\\x946Je\\x87Qa\\x92\\x1e%\\xd8\\xa5*\\t\\x9d4\\xf3\\xff\\xc8v\\xa2\\xd3\\xb5\\x14\\x12SPc\\xeb\\xadK\\x90R\\x97\\xff\\xd7\\x14\\xc7\\x01\\xc2<\\x0c'{\\x97\\x16\\x0b\\xabb\\xf6\\x02-D\\xb1\\x8fx*\\xd8\\\\{\\xc13\\xcb\\xff\\x83A\\x89\\xf9\\xf5\\x14\\xccPm\\x84\\x8e\\xe4+\\x01\\xfb\\x91\\x15Z(\\xd4\\xa3\\xf0\\xe1n\\xb9\\xda'gr\\xc7=\\xff\\n\\xcf\\xbcy\\xd2\\xa1b\\\\1\\xd54\\x8f\\xe0\\x0b\\xd2\\x99\\xd5\\x12\\xc8\\xec\\x86Z]\\xea\\xcc~\\xa2e\\xac\\xef\\x7f\\xf8\\xea\\xe4\\x03\\xb4\\xd0\\x01A\\xa0\\xb7\\x0fsFaxy\\xc8J$\\xa3\\x12\\xdb\\xa4\\x8aOJ\\xc2\\x9e\"\n"
          ]
        }
      ],
      "source": [
        "from cryptography.hazmat.primitives.asymmetric import padding\n",
        "from cryptography.hazmat.primitives import hashes\n",
        "\n",
        "# шифрование текста при помощи RSA-OAEP (это усиливающая классический RSA cхема с использованием двух криптостойких хеш-функций и паддинга, если интересно, можно почитать здесь https://habr.com/ru/post/99376/)\n",
        "text= bytes('кто прочитал тот воскреснет', 'UTF-8')\n",
        "c_text = public_key.encrypt(text, padding.OAEP(mgf=padding.MGF1(algorithm=hashes.SHA256()),algorithm=hashes.SHA256(),label=None))\n",
        "\n",
        "print(c_text)"
      ]
    },
    {
      "cell_type": "code",
      "execution_count": 38,
      "metadata": {
        "id": "oVmJJcEmrNWt"
      },
      "outputs": [
        {
          "name": "stdout",
          "output_type": "stream",
          "text": [
            "кто прочитал тот воскреснет\n"
          ]
        }
      ],
      "source": [
        "# дешифрование текста асимметричным алгоритмом\n",
        "dc_text = private_key.decrypt(c_text,padding.OAEP(mgf=padding.MGF1(algorithm=hashes.SHA256()),algorithm=hashes.SHA256(),label=None))\n",
        "\n",
        "print(dc_text.decode('UTF-8'))"
      ]
    },
    {
      "cell_type": "markdown",
      "metadata": {
        "id": "-ytAMWrtA37O"
      },
      "source": [
        "##Варианты заданий\n",
        "Далее приведены симметричные алгоритмы шифрования для различных вариантов лабораторной. Вариант $v$ предлагается выбрать как $ v = rem(i,9)$, где $i$ - порядковый номер студента в списке.    \n",
        "\n",
        "Грубо говоря, варианты (в основном) отличаются вызовом определенного метода библиотеки и длиной ключа, который необходимо сгенерировать. \n",
        "\n",
        "*Помимо работающего приложения, для сдачи необходимо изучить и рассказать  исторические аспекты используемого симметричного алгоритма - когда, кем и для каких целей он был разработан, считается ли  сегодня криптостойким, к каким атакам алгоритм уязвим, принят ли он в качестве стандарта шифрования на официальном уровне каким-либо государством.*"
      ]
    },
    {
      "cell_type": "markdown",
      "metadata": {
        "id": "sxBuIHZ1eJJC"
      },
      "source": [
        "Варианты:  \n",
        "1. [**AES**](https://cryptography.io/en/latest/hazmat/primitives/symmetric-encryption/#cryptography.hazmat.primitives.ciphers.algorithms.AES), длина ключа 128,192,256 бит - *предусмотреть пользовательский выбор длины ключа*;  \n",
        "2. [**Camellia**](https://cryptography.io/en/latest/hazmat/primitives/symmetric-encryption/#cryptography.hazmat.primitives.ciphers.algorithms.Camellia), длина ключа 128,192,256 бит - *предусмотреть пользовательский выбор длины ключа*;  \n",
        "3. [**ChaCha20**](https://cryptography.io/en/latest/hazmat/primitives/symmetric-encryption/#cryptography.hazmat.primitives.ciphers.algorithms.ChaCha20), длина ключа 256 бит, есть дополнительный параметр - одноразовое случайное число 128 бит - *предусмотреть сериализацию/десериализацию этого параметра*;  \n",
        "4. [**3DES**](https://cryptography.io/en/latest/hazmat/primitives/symmetric-encryption/#cryptography.hazmat.primitives.ciphers.algorithms.TripleDES), длина ключа 64, 128, 192 бит - *предусмотреть пользовательский выбор длины ключа*;  \n",
        "5. [**CAST5**](https://cryptography.io/en/latest/hazmat/primitives/symmetric-encryption/#cryptography.hazmat.primitives.ciphers.algorithms.CAST5), длина ключа от 40 до 128 бит с шагом 8 бит - *предусмотреть пользовательский выбор длины ключа*;  \n",
        "6. [**SEED**](https://cryptography.io/en/latest/hazmat/primitives/symmetric-encryption/#cryptography.hazmat.primitives.ciphers.algorithms.SEED), длина ключа 128 бит;  \n",
        "7. [**SM4**](https://cryptography.io/en/latest/hazmat/primitives/symmetric-encryption/#cryptography.hazmat.primitives.ciphers.algorithms.SM4), длина ключа 128 бит;  \n",
        "8. [**Blowfish**](https://cryptography.io/en/latest/hazmat/primitives/symmetric-encryption/#cryptography.hazmat.primitives.ciphers.algorithms.Blowfish), длина ключа от 32 до 448 бит с шагом 8 бит - *предусмотреть пользовательский выбор длины ключа*;  \n",
        "9. [**IDEA**](https://cryptography.io/en/latest/hazmat/primitives/symmetric-encryption/#cryptography.hazmat.primitives.ciphers.algorithms.ARC4), длина ключа 128 бит.  \n"
      ]
    }
  ],
  "metadata": {
    "colab": {
      "name": "ISB_Lab3.ipynb",
      "provenance": [],
      "toc_visible": true
    },
    "kernelspec": {
      "display_name": "Python 3",
      "name": "python3"
    },
    "language_info": {
      "codemirror_mode": {
        "name": "ipython",
        "version": 3
      },
      "file_extension": ".py",
      "mimetype": "text/x-python",
      "name": "python",
      "nbconvert_exporter": "python",
      "pygments_lexer": "ipython3",
      "version": "3.10.2"
    }
  },
  "nbformat": 4,
  "nbformat_minor": 0
}
